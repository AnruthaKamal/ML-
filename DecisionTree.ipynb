{
  "nbformat": 4,
  "nbformat_minor": 0,
  "metadata": {
    "colab": {
      "provenance": [],
      "collapsed_sections": [
        "jwxzJmPJzmIs",
        "ohmPEPTmzpuA",
        "k9QLc4aVzYQz",
        "RIqyok-a8auc"
      ]
    },
    "kernelspec": {
      "name": "python3",
      "display_name": "Python 3"
    },
    "language_info": {
      "name": "python"
    },
    "gpuClass": "standard"
  },
  "cells": [
    {
      "cell_type": "markdown",
      "source": [
        "<h1><b> Implementing Decision Tree Classification on Breast Cancer Dataset "
      ],
      "metadata": {
        "id": "f1_G7HQvzyXb"
      }
    },
    {
      "cell_type": "markdown",
      "source": [
        "<b><h1>DECISION TREE </h1></b>\n",
        "<ol>\n",
        "<li> Supervised learning Technique </li>\n",
        "<li> Used for both Regression and classification </li>\n",
        "<li> Sensitive to small variation in data </li>\n",
        "<li> Robust to outliers and missing Values</li>\n",
        "<li> Feature Scalling is not required </li>\n",
        "<li> Metric used for spliting : Information Gain , Gain Ratio , Gini Impurity</li>\n"
      ],
      "metadata": {
        "id": "9mhlL_YB4-5A"
      }
    },
    {
      "cell_type": "code",
      "source": [
        "#importing libraries \n",
        "import matplotlib.pyplot as plt\n",
        "from sklearn.model_selection import train_test_split\n",
        "from sklearn.datasets import load_breast_cancer\n",
        "from sklearn.tree import DecisionTreeClassifier\n",
        "import seaborn as sns\n",
        "from sklearn import tree\n",
        "from sklearn.model_selection import GridSearchCV\n",
        "from sklearn.metrics import confusion_matrix , ConfusionMatrixDisplay"
      ],
      "metadata": {
        "id": "HulGyOlh4_Ri"
      },
      "execution_count": 1,
      "outputs": []
    },
    {
      "cell_type": "code",
      "source": [
        "#load dataset\n",
        "X , Y = load_breast_cancer(return_X_y=True,as_frame=True)"
      ],
      "metadata": {
        "id": "XeMsU4qy5f6G"
      },
      "execution_count": 2,
      "outputs": []
    },
    {
      "cell_type": "markdown",
      "source": [
        "## EDA "
      ],
      "metadata": {
        "id": "jwxzJmPJzmIs"
      }
    },
    {
      "cell_type": "code",
      "source": [
        "X.head()"
      ],
      "metadata": {
        "id": "IxBT1Xwl5xfc",
        "colab": {
          "base_uri": "https://localhost:8080/",
          "height": 334
        },
        "outputId": "82190b2e-017c-406b-ad33-fb9001610085"
      },
      "execution_count": 3,
      "outputs": [
        {
          "output_type": "execute_result",
          "data": {
            "text/plain": [
              "   mean radius  mean texture  mean perimeter  mean area  mean smoothness  \\\n",
              "0        17.99         10.38          122.80     1001.0          0.11840   \n",
              "1        20.57         17.77          132.90     1326.0          0.08474   \n",
              "2        19.69         21.25          130.00     1203.0          0.10960   \n",
              "3        11.42         20.38           77.58      386.1          0.14250   \n",
              "4        20.29         14.34          135.10     1297.0          0.10030   \n",
              "\n",
              "   mean compactness  mean concavity  mean concave points  mean symmetry  \\\n",
              "0           0.27760          0.3001              0.14710         0.2419   \n",
              "1           0.07864          0.0869              0.07017         0.1812   \n",
              "2           0.15990          0.1974              0.12790         0.2069   \n",
              "3           0.28390          0.2414              0.10520         0.2597   \n",
              "4           0.13280          0.1980              0.10430         0.1809   \n",
              "\n",
              "   mean fractal dimension  ...  worst radius  worst texture  worst perimeter  \\\n",
              "0                 0.07871  ...         25.38          17.33           184.60   \n",
              "1                 0.05667  ...         24.99          23.41           158.80   \n",
              "2                 0.05999  ...         23.57          25.53           152.50   \n",
              "3                 0.09744  ...         14.91          26.50            98.87   \n",
              "4                 0.05883  ...         22.54          16.67           152.20   \n",
              "\n",
              "   worst area  worst smoothness  worst compactness  worst concavity  \\\n",
              "0      2019.0            0.1622             0.6656           0.7119   \n",
              "1      1956.0            0.1238             0.1866           0.2416   \n",
              "2      1709.0            0.1444             0.4245           0.4504   \n",
              "3       567.7            0.2098             0.8663           0.6869   \n",
              "4      1575.0            0.1374             0.2050           0.4000   \n",
              "\n",
              "   worst concave points  worst symmetry  worst fractal dimension  \n",
              "0                0.2654          0.4601                  0.11890  \n",
              "1                0.1860          0.2750                  0.08902  \n",
              "2                0.2430          0.3613                  0.08758  \n",
              "3                0.2575          0.6638                  0.17300  \n",
              "4                0.1625          0.2364                  0.07678  \n",
              "\n",
              "[5 rows x 30 columns]"
            ],
            "text/html": [
              "\n",
              "  <div id=\"df-4360803c-b9e7-4c57-9cf5-b648d2bc393c\">\n",
              "    <div class=\"colab-df-container\">\n",
              "      <div>\n",
              "<style scoped>\n",
              "    .dataframe tbody tr th:only-of-type {\n",
              "        vertical-align: middle;\n",
              "    }\n",
              "\n",
              "    .dataframe tbody tr th {\n",
              "        vertical-align: top;\n",
              "    }\n",
              "\n",
              "    .dataframe thead th {\n",
              "        text-align: right;\n",
              "    }\n",
              "</style>\n",
              "<table border=\"1\" class=\"dataframe\">\n",
              "  <thead>\n",
              "    <tr style=\"text-align: right;\">\n",
              "      <th></th>\n",
              "      <th>mean radius</th>\n",
              "      <th>mean texture</th>\n",
              "      <th>mean perimeter</th>\n",
              "      <th>mean area</th>\n",
              "      <th>mean smoothness</th>\n",
              "      <th>mean compactness</th>\n",
              "      <th>mean concavity</th>\n",
              "      <th>mean concave points</th>\n",
              "      <th>mean symmetry</th>\n",
              "      <th>mean fractal dimension</th>\n",
              "      <th>...</th>\n",
              "      <th>worst radius</th>\n",
              "      <th>worst texture</th>\n",
              "      <th>worst perimeter</th>\n",
              "      <th>worst area</th>\n",
              "      <th>worst smoothness</th>\n",
              "      <th>worst compactness</th>\n",
              "      <th>worst concavity</th>\n",
              "      <th>worst concave points</th>\n",
              "      <th>worst symmetry</th>\n",
              "      <th>worst fractal dimension</th>\n",
              "    </tr>\n",
              "  </thead>\n",
              "  <tbody>\n",
              "    <tr>\n",
              "      <th>0</th>\n",
              "      <td>17.99</td>\n",
              "      <td>10.38</td>\n",
              "      <td>122.80</td>\n",
              "      <td>1001.0</td>\n",
              "      <td>0.11840</td>\n",
              "      <td>0.27760</td>\n",
              "      <td>0.3001</td>\n",
              "      <td>0.14710</td>\n",
              "      <td>0.2419</td>\n",
              "      <td>0.07871</td>\n",
              "      <td>...</td>\n",
              "      <td>25.38</td>\n",
              "      <td>17.33</td>\n",
              "      <td>184.60</td>\n",
              "      <td>2019.0</td>\n",
              "      <td>0.1622</td>\n",
              "      <td>0.6656</td>\n",
              "      <td>0.7119</td>\n",
              "      <td>0.2654</td>\n",
              "      <td>0.4601</td>\n",
              "      <td>0.11890</td>\n",
              "    </tr>\n",
              "    <tr>\n",
              "      <th>1</th>\n",
              "      <td>20.57</td>\n",
              "      <td>17.77</td>\n",
              "      <td>132.90</td>\n",
              "      <td>1326.0</td>\n",
              "      <td>0.08474</td>\n",
              "      <td>0.07864</td>\n",
              "      <td>0.0869</td>\n",
              "      <td>0.07017</td>\n",
              "      <td>0.1812</td>\n",
              "      <td>0.05667</td>\n",
              "      <td>...</td>\n",
              "      <td>24.99</td>\n",
              "      <td>23.41</td>\n",
              "      <td>158.80</td>\n",
              "      <td>1956.0</td>\n",
              "      <td>0.1238</td>\n",
              "      <td>0.1866</td>\n",
              "      <td>0.2416</td>\n",
              "      <td>0.1860</td>\n",
              "      <td>0.2750</td>\n",
              "      <td>0.08902</td>\n",
              "    </tr>\n",
              "    <tr>\n",
              "      <th>2</th>\n",
              "      <td>19.69</td>\n",
              "      <td>21.25</td>\n",
              "      <td>130.00</td>\n",
              "      <td>1203.0</td>\n",
              "      <td>0.10960</td>\n",
              "      <td>0.15990</td>\n",
              "      <td>0.1974</td>\n",
              "      <td>0.12790</td>\n",
              "      <td>0.2069</td>\n",
              "      <td>0.05999</td>\n",
              "      <td>...</td>\n",
              "      <td>23.57</td>\n",
              "      <td>25.53</td>\n",
              "      <td>152.50</td>\n",
              "      <td>1709.0</td>\n",
              "      <td>0.1444</td>\n",
              "      <td>0.4245</td>\n",
              "      <td>0.4504</td>\n",
              "      <td>0.2430</td>\n",
              "      <td>0.3613</td>\n",
              "      <td>0.08758</td>\n",
              "    </tr>\n",
              "    <tr>\n",
              "      <th>3</th>\n",
              "      <td>11.42</td>\n",
              "      <td>20.38</td>\n",
              "      <td>77.58</td>\n",
              "      <td>386.1</td>\n",
              "      <td>0.14250</td>\n",
              "      <td>0.28390</td>\n",
              "      <td>0.2414</td>\n",
              "      <td>0.10520</td>\n",
              "      <td>0.2597</td>\n",
              "      <td>0.09744</td>\n",
              "      <td>...</td>\n",
              "      <td>14.91</td>\n",
              "      <td>26.50</td>\n",
              "      <td>98.87</td>\n",
              "      <td>567.7</td>\n",
              "      <td>0.2098</td>\n",
              "      <td>0.8663</td>\n",
              "      <td>0.6869</td>\n",
              "      <td>0.2575</td>\n",
              "      <td>0.6638</td>\n",
              "      <td>0.17300</td>\n",
              "    </tr>\n",
              "    <tr>\n",
              "      <th>4</th>\n",
              "      <td>20.29</td>\n",
              "      <td>14.34</td>\n",
              "      <td>135.10</td>\n",
              "      <td>1297.0</td>\n",
              "      <td>0.10030</td>\n",
              "      <td>0.13280</td>\n",
              "      <td>0.1980</td>\n",
              "      <td>0.10430</td>\n",
              "      <td>0.1809</td>\n",
              "      <td>0.05883</td>\n",
              "      <td>...</td>\n",
              "      <td>22.54</td>\n",
              "      <td>16.67</td>\n",
              "      <td>152.20</td>\n",
              "      <td>1575.0</td>\n",
              "      <td>0.1374</td>\n",
              "      <td>0.2050</td>\n",
              "      <td>0.4000</td>\n",
              "      <td>0.1625</td>\n",
              "      <td>0.2364</td>\n",
              "      <td>0.07678</td>\n",
              "    </tr>\n",
              "  </tbody>\n",
              "</table>\n",
              "<p>5 rows × 30 columns</p>\n",
              "</div>\n",
              "      <button class=\"colab-df-convert\" onclick=\"convertToInteractive('df-4360803c-b9e7-4c57-9cf5-b648d2bc393c')\"\n",
              "              title=\"Convert this dataframe to an interactive table.\"\n",
              "              style=\"display:none;\">\n",
              "        \n",
              "  <svg xmlns=\"http://www.w3.org/2000/svg\" height=\"24px\"viewBox=\"0 0 24 24\"\n",
              "       width=\"24px\">\n",
              "    <path d=\"M0 0h24v24H0V0z\" fill=\"none\"/>\n",
              "    <path d=\"M18.56 5.44l.94 2.06.94-2.06 2.06-.94-2.06-.94-.94-2.06-.94 2.06-2.06.94zm-11 1L8.5 8.5l.94-2.06 2.06-.94-2.06-.94L8.5 2.5l-.94 2.06-2.06.94zm10 10l.94 2.06.94-2.06 2.06-.94-2.06-.94-.94-2.06-.94 2.06-2.06.94z\"/><path d=\"M17.41 7.96l-1.37-1.37c-.4-.4-.92-.59-1.43-.59-.52 0-1.04.2-1.43.59L10.3 9.45l-7.72 7.72c-.78.78-.78 2.05 0 2.83L4 21.41c.39.39.9.59 1.41.59.51 0 1.02-.2 1.41-.59l7.78-7.78 2.81-2.81c.8-.78.8-2.07 0-2.86zM5.41 20L4 18.59l7.72-7.72 1.47 1.35L5.41 20z\"/>\n",
              "  </svg>\n",
              "      </button>\n",
              "      \n",
              "  <style>\n",
              "    .colab-df-container {\n",
              "      display:flex;\n",
              "      flex-wrap:wrap;\n",
              "      gap: 12px;\n",
              "    }\n",
              "\n",
              "    .colab-df-convert {\n",
              "      background-color: #E8F0FE;\n",
              "      border: none;\n",
              "      border-radius: 50%;\n",
              "      cursor: pointer;\n",
              "      display: none;\n",
              "      fill: #1967D2;\n",
              "      height: 32px;\n",
              "      padding: 0 0 0 0;\n",
              "      width: 32px;\n",
              "    }\n",
              "\n",
              "    .colab-df-convert:hover {\n",
              "      background-color: #E2EBFA;\n",
              "      box-shadow: 0px 1px 2px rgba(60, 64, 67, 0.3), 0px 1px 3px 1px rgba(60, 64, 67, 0.15);\n",
              "      fill: #174EA6;\n",
              "    }\n",
              "\n",
              "    [theme=dark] .colab-df-convert {\n",
              "      background-color: #3B4455;\n",
              "      fill: #D2E3FC;\n",
              "    }\n",
              "\n",
              "    [theme=dark] .colab-df-convert:hover {\n",
              "      background-color: #434B5C;\n",
              "      box-shadow: 0px 1px 3px 1px rgba(0, 0, 0, 0.15);\n",
              "      filter: drop-shadow(0px 1px 2px rgba(0, 0, 0, 0.3));\n",
              "      fill: #FFFFFF;\n",
              "    }\n",
              "  </style>\n",
              "\n",
              "      <script>\n",
              "        const buttonEl =\n",
              "          document.querySelector('#df-4360803c-b9e7-4c57-9cf5-b648d2bc393c button.colab-df-convert');\n",
              "        buttonEl.style.display =\n",
              "          google.colab.kernel.accessAllowed ? 'block' : 'none';\n",
              "\n",
              "        async function convertToInteractive(key) {\n",
              "          const element = document.querySelector('#df-4360803c-b9e7-4c57-9cf5-b648d2bc393c');\n",
              "          const dataTable =\n",
              "            await google.colab.kernel.invokeFunction('convertToInteractive',\n",
              "                                                     [key], {});\n",
              "          if (!dataTable) return;\n",
              "\n",
              "          const docLinkHtml = 'Like what you see? Visit the ' +\n",
              "            '<a target=\"_blank\" href=https://colab.research.google.com/notebooks/data_table.ipynb>data table notebook</a>'\n",
              "            + ' to learn more about interactive tables.';\n",
              "          element.innerHTML = '';\n",
              "          dataTable['output_type'] = 'display_data';\n",
              "          await google.colab.output.renderOutput(dataTable, element);\n",
              "          const docLink = document.createElement('div');\n",
              "          docLink.innerHTML = docLinkHtml;\n",
              "          element.appendChild(docLink);\n",
              "        }\n",
              "      </script>\n",
              "    </div>\n",
              "  </div>\n",
              "  "
            ]
          },
          "metadata": {},
          "execution_count": 3
        }
      ]
    },
    {
      "cell_type": "code",
      "source": [
        "X.info()"
      ],
      "metadata": {
        "id": "Vn5i2IyH6ndG",
        "colab": {
          "base_uri": "https://localhost:8080/"
        },
        "outputId": "a0fc8922-4c77-43cd-e2ce-c3d736acb2d7"
      },
      "execution_count": 4,
      "outputs": [
        {
          "output_type": "stream",
          "name": "stdout",
          "text": [
            "<class 'pandas.core.frame.DataFrame'>\n",
            "RangeIndex: 569 entries, 0 to 568\n",
            "Data columns (total 30 columns):\n",
            " #   Column                   Non-Null Count  Dtype  \n",
            "---  ------                   --------------  -----  \n",
            " 0   mean radius              569 non-null    float64\n",
            " 1   mean texture             569 non-null    float64\n",
            " 2   mean perimeter           569 non-null    float64\n",
            " 3   mean area                569 non-null    float64\n",
            " 4   mean smoothness          569 non-null    float64\n",
            " 5   mean compactness         569 non-null    float64\n",
            " 6   mean concavity           569 non-null    float64\n",
            " 7   mean concave points      569 non-null    float64\n",
            " 8   mean symmetry            569 non-null    float64\n",
            " 9   mean fractal dimension   569 non-null    float64\n",
            " 10  radius error             569 non-null    float64\n",
            " 11  texture error            569 non-null    float64\n",
            " 12  perimeter error          569 non-null    float64\n",
            " 13  area error               569 non-null    float64\n",
            " 14  smoothness error         569 non-null    float64\n",
            " 15  compactness error        569 non-null    float64\n",
            " 16  concavity error          569 non-null    float64\n",
            " 17  concave points error     569 non-null    float64\n",
            " 18  symmetry error           569 non-null    float64\n",
            " 19  fractal dimension error  569 non-null    float64\n",
            " 20  worst radius             569 non-null    float64\n",
            " 21  worst texture            569 non-null    float64\n",
            " 22  worst perimeter          569 non-null    float64\n",
            " 23  worst area               569 non-null    float64\n",
            " 24  worst smoothness         569 non-null    float64\n",
            " 25  worst compactness        569 non-null    float64\n",
            " 26  worst concavity          569 non-null    float64\n",
            " 27  worst concave points     569 non-null    float64\n",
            " 28  worst symmetry           569 non-null    float64\n",
            " 29  worst fractal dimension  569 non-null    float64\n",
            "dtypes: float64(30)\n",
            "memory usage: 133.5 KB\n"
          ]
        }
      ]
    },
    {
      "cell_type": "code",
      "source": [
        "X.describe()"
      ],
      "metadata": {
        "id": "L6whXtF16tFw",
        "colab": {
          "base_uri": "https://localhost:8080/",
          "height": 428
        },
        "outputId": "28830ef7-c631-4fa6-9ac2-304253383825"
      },
      "execution_count": 5,
      "outputs": [
        {
          "output_type": "execute_result",
          "data": {
            "text/plain": [
              "       mean radius  mean texture  mean perimeter    mean area  \\\n",
              "count   569.000000    569.000000      569.000000   569.000000   \n",
              "mean     14.127292     19.289649       91.969033   654.889104   \n",
              "std       3.524049      4.301036       24.298981   351.914129   \n",
              "min       6.981000      9.710000       43.790000   143.500000   \n",
              "25%      11.700000     16.170000       75.170000   420.300000   \n",
              "50%      13.370000     18.840000       86.240000   551.100000   \n",
              "75%      15.780000     21.800000      104.100000   782.700000   \n",
              "max      28.110000     39.280000      188.500000  2501.000000   \n",
              "\n",
              "       mean smoothness  mean compactness  mean concavity  mean concave points  \\\n",
              "count       569.000000        569.000000      569.000000           569.000000   \n",
              "mean          0.096360          0.104341        0.088799             0.048919   \n",
              "std           0.014064          0.052813        0.079720             0.038803   \n",
              "min           0.052630          0.019380        0.000000             0.000000   \n",
              "25%           0.086370          0.064920        0.029560             0.020310   \n",
              "50%           0.095870          0.092630        0.061540             0.033500   \n",
              "75%           0.105300          0.130400        0.130700             0.074000   \n",
              "max           0.163400          0.345400        0.426800             0.201200   \n",
              "\n",
              "       mean symmetry  mean fractal dimension  ...  worst radius  \\\n",
              "count     569.000000              569.000000  ...    569.000000   \n",
              "mean        0.181162                0.062798  ...     16.269190   \n",
              "std         0.027414                0.007060  ...      4.833242   \n",
              "min         0.106000                0.049960  ...      7.930000   \n",
              "25%         0.161900                0.057700  ...     13.010000   \n",
              "50%         0.179200                0.061540  ...     14.970000   \n",
              "75%         0.195700                0.066120  ...     18.790000   \n",
              "max         0.304000                0.097440  ...     36.040000   \n",
              "\n",
              "       worst texture  worst perimeter   worst area  worst smoothness  \\\n",
              "count     569.000000       569.000000   569.000000        569.000000   \n",
              "mean       25.677223       107.261213   880.583128          0.132369   \n",
              "std         6.146258        33.602542   569.356993          0.022832   \n",
              "min        12.020000        50.410000   185.200000          0.071170   \n",
              "25%        21.080000        84.110000   515.300000          0.116600   \n",
              "50%        25.410000        97.660000   686.500000          0.131300   \n",
              "75%        29.720000       125.400000  1084.000000          0.146000   \n",
              "max        49.540000       251.200000  4254.000000          0.222600   \n",
              "\n",
              "       worst compactness  worst concavity  worst concave points  \\\n",
              "count         569.000000       569.000000            569.000000   \n",
              "mean            0.254265         0.272188              0.114606   \n",
              "std             0.157336         0.208624              0.065732   \n",
              "min             0.027290         0.000000              0.000000   \n",
              "25%             0.147200         0.114500              0.064930   \n",
              "50%             0.211900         0.226700              0.099930   \n",
              "75%             0.339100         0.382900              0.161400   \n",
              "max             1.058000         1.252000              0.291000   \n",
              "\n",
              "       worst symmetry  worst fractal dimension  \n",
              "count      569.000000               569.000000  \n",
              "mean         0.290076                 0.083946  \n",
              "std          0.061867                 0.018061  \n",
              "min          0.156500                 0.055040  \n",
              "25%          0.250400                 0.071460  \n",
              "50%          0.282200                 0.080040  \n",
              "75%          0.317900                 0.092080  \n",
              "max          0.663800                 0.207500  \n",
              "\n",
              "[8 rows x 30 columns]"
            ],
            "text/html": [
              "\n",
              "  <div id=\"df-7d699904-8195-46f9-8ffe-3ab2051723b3\">\n",
              "    <div class=\"colab-df-container\">\n",
              "      <div>\n",
              "<style scoped>\n",
              "    .dataframe tbody tr th:only-of-type {\n",
              "        vertical-align: middle;\n",
              "    }\n",
              "\n",
              "    .dataframe tbody tr th {\n",
              "        vertical-align: top;\n",
              "    }\n",
              "\n",
              "    .dataframe thead th {\n",
              "        text-align: right;\n",
              "    }\n",
              "</style>\n",
              "<table border=\"1\" class=\"dataframe\">\n",
              "  <thead>\n",
              "    <tr style=\"text-align: right;\">\n",
              "      <th></th>\n",
              "      <th>mean radius</th>\n",
              "      <th>mean texture</th>\n",
              "      <th>mean perimeter</th>\n",
              "      <th>mean area</th>\n",
              "      <th>mean smoothness</th>\n",
              "      <th>mean compactness</th>\n",
              "      <th>mean concavity</th>\n",
              "      <th>mean concave points</th>\n",
              "      <th>mean symmetry</th>\n",
              "      <th>mean fractal dimension</th>\n",
              "      <th>...</th>\n",
              "      <th>worst radius</th>\n",
              "      <th>worst texture</th>\n",
              "      <th>worst perimeter</th>\n",
              "      <th>worst area</th>\n",
              "      <th>worst smoothness</th>\n",
              "      <th>worst compactness</th>\n",
              "      <th>worst concavity</th>\n",
              "      <th>worst concave points</th>\n",
              "      <th>worst symmetry</th>\n",
              "      <th>worst fractal dimension</th>\n",
              "    </tr>\n",
              "  </thead>\n",
              "  <tbody>\n",
              "    <tr>\n",
              "      <th>count</th>\n",
              "      <td>569.000000</td>\n",
              "      <td>569.000000</td>\n",
              "      <td>569.000000</td>\n",
              "      <td>569.000000</td>\n",
              "      <td>569.000000</td>\n",
              "      <td>569.000000</td>\n",
              "      <td>569.000000</td>\n",
              "      <td>569.000000</td>\n",
              "      <td>569.000000</td>\n",
              "      <td>569.000000</td>\n",
              "      <td>...</td>\n",
              "      <td>569.000000</td>\n",
              "      <td>569.000000</td>\n",
              "      <td>569.000000</td>\n",
              "      <td>569.000000</td>\n",
              "      <td>569.000000</td>\n",
              "      <td>569.000000</td>\n",
              "      <td>569.000000</td>\n",
              "      <td>569.000000</td>\n",
              "      <td>569.000000</td>\n",
              "      <td>569.000000</td>\n",
              "    </tr>\n",
              "    <tr>\n",
              "      <th>mean</th>\n",
              "      <td>14.127292</td>\n",
              "      <td>19.289649</td>\n",
              "      <td>91.969033</td>\n",
              "      <td>654.889104</td>\n",
              "      <td>0.096360</td>\n",
              "      <td>0.104341</td>\n",
              "      <td>0.088799</td>\n",
              "      <td>0.048919</td>\n",
              "      <td>0.181162</td>\n",
              "      <td>0.062798</td>\n",
              "      <td>...</td>\n",
              "      <td>16.269190</td>\n",
              "      <td>25.677223</td>\n",
              "      <td>107.261213</td>\n",
              "      <td>880.583128</td>\n",
              "      <td>0.132369</td>\n",
              "      <td>0.254265</td>\n",
              "      <td>0.272188</td>\n",
              "      <td>0.114606</td>\n",
              "      <td>0.290076</td>\n",
              "      <td>0.083946</td>\n",
              "    </tr>\n",
              "    <tr>\n",
              "      <th>std</th>\n",
              "      <td>3.524049</td>\n",
              "      <td>4.301036</td>\n",
              "      <td>24.298981</td>\n",
              "      <td>351.914129</td>\n",
              "      <td>0.014064</td>\n",
              "      <td>0.052813</td>\n",
              "      <td>0.079720</td>\n",
              "      <td>0.038803</td>\n",
              "      <td>0.027414</td>\n",
              "      <td>0.007060</td>\n",
              "      <td>...</td>\n",
              "      <td>4.833242</td>\n",
              "      <td>6.146258</td>\n",
              "      <td>33.602542</td>\n",
              "      <td>569.356993</td>\n",
              "      <td>0.022832</td>\n",
              "      <td>0.157336</td>\n",
              "      <td>0.208624</td>\n",
              "      <td>0.065732</td>\n",
              "      <td>0.061867</td>\n",
              "      <td>0.018061</td>\n",
              "    </tr>\n",
              "    <tr>\n",
              "      <th>min</th>\n",
              "      <td>6.981000</td>\n",
              "      <td>9.710000</td>\n",
              "      <td>43.790000</td>\n",
              "      <td>143.500000</td>\n",
              "      <td>0.052630</td>\n",
              "      <td>0.019380</td>\n",
              "      <td>0.000000</td>\n",
              "      <td>0.000000</td>\n",
              "      <td>0.106000</td>\n",
              "      <td>0.049960</td>\n",
              "      <td>...</td>\n",
              "      <td>7.930000</td>\n",
              "      <td>12.020000</td>\n",
              "      <td>50.410000</td>\n",
              "      <td>185.200000</td>\n",
              "      <td>0.071170</td>\n",
              "      <td>0.027290</td>\n",
              "      <td>0.000000</td>\n",
              "      <td>0.000000</td>\n",
              "      <td>0.156500</td>\n",
              "      <td>0.055040</td>\n",
              "    </tr>\n",
              "    <tr>\n",
              "      <th>25%</th>\n",
              "      <td>11.700000</td>\n",
              "      <td>16.170000</td>\n",
              "      <td>75.170000</td>\n",
              "      <td>420.300000</td>\n",
              "      <td>0.086370</td>\n",
              "      <td>0.064920</td>\n",
              "      <td>0.029560</td>\n",
              "      <td>0.020310</td>\n",
              "      <td>0.161900</td>\n",
              "      <td>0.057700</td>\n",
              "      <td>...</td>\n",
              "      <td>13.010000</td>\n",
              "      <td>21.080000</td>\n",
              "      <td>84.110000</td>\n",
              "      <td>515.300000</td>\n",
              "      <td>0.116600</td>\n",
              "      <td>0.147200</td>\n",
              "      <td>0.114500</td>\n",
              "      <td>0.064930</td>\n",
              "      <td>0.250400</td>\n",
              "      <td>0.071460</td>\n",
              "    </tr>\n",
              "    <tr>\n",
              "      <th>50%</th>\n",
              "      <td>13.370000</td>\n",
              "      <td>18.840000</td>\n",
              "      <td>86.240000</td>\n",
              "      <td>551.100000</td>\n",
              "      <td>0.095870</td>\n",
              "      <td>0.092630</td>\n",
              "      <td>0.061540</td>\n",
              "      <td>0.033500</td>\n",
              "      <td>0.179200</td>\n",
              "      <td>0.061540</td>\n",
              "      <td>...</td>\n",
              "      <td>14.970000</td>\n",
              "      <td>25.410000</td>\n",
              "      <td>97.660000</td>\n",
              "      <td>686.500000</td>\n",
              "      <td>0.131300</td>\n",
              "      <td>0.211900</td>\n",
              "      <td>0.226700</td>\n",
              "      <td>0.099930</td>\n",
              "      <td>0.282200</td>\n",
              "      <td>0.080040</td>\n",
              "    </tr>\n",
              "    <tr>\n",
              "      <th>75%</th>\n",
              "      <td>15.780000</td>\n",
              "      <td>21.800000</td>\n",
              "      <td>104.100000</td>\n",
              "      <td>782.700000</td>\n",
              "      <td>0.105300</td>\n",
              "      <td>0.130400</td>\n",
              "      <td>0.130700</td>\n",
              "      <td>0.074000</td>\n",
              "      <td>0.195700</td>\n",
              "      <td>0.066120</td>\n",
              "      <td>...</td>\n",
              "      <td>18.790000</td>\n",
              "      <td>29.720000</td>\n",
              "      <td>125.400000</td>\n",
              "      <td>1084.000000</td>\n",
              "      <td>0.146000</td>\n",
              "      <td>0.339100</td>\n",
              "      <td>0.382900</td>\n",
              "      <td>0.161400</td>\n",
              "      <td>0.317900</td>\n",
              "      <td>0.092080</td>\n",
              "    </tr>\n",
              "    <tr>\n",
              "      <th>max</th>\n",
              "      <td>28.110000</td>\n",
              "      <td>39.280000</td>\n",
              "      <td>188.500000</td>\n",
              "      <td>2501.000000</td>\n",
              "      <td>0.163400</td>\n",
              "      <td>0.345400</td>\n",
              "      <td>0.426800</td>\n",
              "      <td>0.201200</td>\n",
              "      <td>0.304000</td>\n",
              "      <td>0.097440</td>\n",
              "      <td>...</td>\n",
              "      <td>36.040000</td>\n",
              "      <td>49.540000</td>\n",
              "      <td>251.200000</td>\n",
              "      <td>4254.000000</td>\n",
              "      <td>0.222600</td>\n",
              "      <td>1.058000</td>\n",
              "      <td>1.252000</td>\n",
              "      <td>0.291000</td>\n",
              "      <td>0.663800</td>\n",
              "      <td>0.207500</td>\n",
              "    </tr>\n",
              "  </tbody>\n",
              "</table>\n",
              "<p>8 rows × 30 columns</p>\n",
              "</div>\n",
              "      <button class=\"colab-df-convert\" onclick=\"convertToInteractive('df-7d699904-8195-46f9-8ffe-3ab2051723b3')\"\n",
              "              title=\"Convert this dataframe to an interactive table.\"\n",
              "              style=\"display:none;\">\n",
              "        \n",
              "  <svg xmlns=\"http://www.w3.org/2000/svg\" height=\"24px\"viewBox=\"0 0 24 24\"\n",
              "       width=\"24px\">\n",
              "    <path d=\"M0 0h24v24H0V0z\" fill=\"none\"/>\n",
              "    <path d=\"M18.56 5.44l.94 2.06.94-2.06 2.06-.94-2.06-.94-.94-2.06-.94 2.06-2.06.94zm-11 1L8.5 8.5l.94-2.06 2.06-.94-2.06-.94L8.5 2.5l-.94 2.06-2.06.94zm10 10l.94 2.06.94-2.06 2.06-.94-2.06-.94-.94-2.06-.94 2.06-2.06.94z\"/><path d=\"M17.41 7.96l-1.37-1.37c-.4-.4-.92-.59-1.43-.59-.52 0-1.04.2-1.43.59L10.3 9.45l-7.72 7.72c-.78.78-.78 2.05 0 2.83L4 21.41c.39.39.9.59 1.41.59.51 0 1.02-.2 1.41-.59l7.78-7.78 2.81-2.81c.8-.78.8-2.07 0-2.86zM5.41 20L4 18.59l7.72-7.72 1.47 1.35L5.41 20z\"/>\n",
              "  </svg>\n",
              "      </button>\n",
              "      \n",
              "  <style>\n",
              "    .colab-df-container {\n",
              "      display:flex;\n",
              "      flex-wrap:wrap;\n",
              "      gap: 12px;\n",
              "    }\n",
              "\n",
              "    .colab-df-convert {\n",
              "      background-color: #E8F0FE;\n",
              "      border: none;\n",
              "      border-radius: 50%;\n",
              "      cursor: pointer;\n",
              "      display: none;\n",
              "      fill: #1967D2;\n",
              "      height: 32px;\n",
              "      padding: 0 0 0 0;\n",
              "      width: 32px;\n",
              "    }\n",
              "\n",
              "    .colab-df-convert:hover {\n",
              "      background-color: #E2EBFA;\n",
              "      box-shadow: 0px 1px 2px rgba(60, 64, 67, 0.3), 0px 1px 3px 1px rgba(60, 64, 67, 0.15);\n",
              "      fill: #174EA6;\n",
              "    }\n",
              "\n",
              "    [theme=dark] .colab-df-convert {\n",
              "      background-color: #3B4455;\n",
              "      fill: #D2E3FC;\n",
              "    }\n",
              "\n",
              "    [theme=dark] .colab-df-convert:hover {\n",
              "      background-color: #434B5C;\n",
              "      box-shadow: 0px 1px 3px 1px rgba(0, 0, 0, 0.15);\n",
              "      filter: drop-shadow(0px 1px 2px rgba(0, 0, 0, 0.3));\n",
              "      fill: #FFFFFF;\n",
              "    }\n",
              "  </style>\n",
              "\n",
              "      <script>\n",
              "        const buttonEl =\n",
              "          document.querySelector('#df-7d699904-8195-46f9-8ffe-3ab2051723b3 button.colab-df-convert');\n",
              "        buttonEl.style.display =\n",
              "          google.colab.kernel.accessAllowed ? 'block' : 'none';\n",
              "\n",
              "        async function convertToInteractive(key) {\n",
              "          const element = document.querySelector('#df-7d699904-8195-46f9-8ffe-3ab2051723b3');\n",
              "          const dataTable =\n",
              "            await google.colab.kernel.invokeFunction('convertToInteractive',\n",
              "                                                     [key], {});\n",
              "          if (!dataTable) return;\n",
              "\n",
              "          const docLinkHtml = 'Like what you see? Visit the ' +\n",
              "            '<a target=\"_blank\" href=https://colab.research.google.com/notebooks/data_table.ipynb>data table notebook</a>'\n",
              "            + ' to learn more about interactive tables.';\n",
              "          element.innerHTML = '';\n",
              "          dataTable['output_type'] = 'display_data';\n",
              "          await google.colab.output.renderOutput(dataTable, element);\n",
              "          const docLink = document.createElement('div');\n",
              "          docLink.innerHTML = docLinkHtml;\n",
              "          element.appendChild(docLink);\n",
              "        }\n",
              "      </script>\n",
              "    </div>\n",
              "  </div>\n",
              "  "
            ]
          },
          "metadata": {},
          "execution_count": 5
        }
      ]
    },
    {
      "cell_type": "code",
      "source": [
        "X.isnull().sum()"
      ],
      "metadata": {
        "id": "jBPh2mEB6Bdn",
        "colab": {
          "base_uri": "https://localhost:8080/"
        },
        "outputId": "647d7a15-c4a6-4e60-9ee4-7aa728e8de23"
      },
      "execution_count": 6,
      "outputs": [
        {
          "output_type": "execute_result",
          "data": {
            "text/plain": [
              "mean radius                0\n",
              "mean texture               0\n",
              "mean perimeter             0\n",
              "mean area                  0\n",
              "mean smoothness            0\n",
              "mean compactness           0\n",
              "mean concavity             0\n",
              "mean concave points        0\n",
              "mean symmetry              0\n",
              "mean fractal dimension     0\n",
              "radius error               0\n",
              "texture error              0\n",
              "perimeter error            0\n",
              "area error                 0\n",
              "smoothness error           0\n",
              "compactness error          0\n",
              "concavity error            0\n",
              "concave points error       0\n",
              "symmetry error             0\n",
              "fractal dimension error    0\n",
              "worst radius               0\n",
              "worst texture              0\n",
              "worst perimeter            0\n",
              "worst area                 0\n",
              "worst smoothness           0\n",
              "worst compactness          0\n",
              "worst concavity            0\n",
              "worst concave points       0\n",
              "worst symmetry             0\n",
              "worst fractal dimension    0\n",
              "dtype: int64"
            ]
          },
          "metadata": {},
          "execution_count": 6
        }
      ]
    },
    {
      "cell_type": "markdown",
      "source": [
        "INFERENCE : NO MISSING VALUES "
      ],
      "metadata": {
        "id": "g7MrXD1A61y9"
      }
    },
    {
      "cell_type": "markdown",
      "source": [
        "decision trees not affected by outliers \n"
      ],
      "metadata": {
        "id": "Xs1Lv29495qK"
      }
    },
    {
      "cell_type": "code",
      "source": [
        "#spliting data into train and test \n",
        "X_train,X_test,Y_train,Y_test = train_test_split(X,Y,test_size=0.2,random_state=0)"
      ],
      "metadata": {
        "id": "9CVoxYUGlDIp"
      },
      "execution_count": 7,
      "outputs": []
    },
    {
      "cell_type": "markdown",
      "source": [
        "## Decision Tree ( Classification ) "
      ],
      "metadata": {
        "id": "ohmPEPTmzpuA"
      }
    },
    {
      "cell_type": "code",
      "source": [
        "model = DecisionTreeClassifier()\n",
        "model.fit(X_train,Y_train)"
      ],
      "metadata": {
        "colab": {
          "base_uri": "https://localhost:8080/"
        },
        "id": "Eg5hZ37Gk2Lf",
        "outputId": "dcd5ed51-9699-4ede-e843-b0c192087a34"
      },
      "execution_count": 8,
      "outputs": [
        {
          "output_type": "execute_result",
          "data": {
            "text/plain": [
              "DecisionTreeClassifier()"
            ]
          },
          "metadata": {},
          "execution_count": 8
        }
      ]
    },
    {
      "cell_type": "code",
      "source": [
        "plt.figure(figsize=(15,15))\n",
        "tree.plot_tree(model,filled=True)"
      ],
      "metadata": {
        "colab": {
          "base_uri": "https://localhost:8080/",
          "height": 1000
        },
        "id": "ThrYhdCnlePm",
        "outputId": "3a503627-8ce3-4219-9ad4-ce2477bc19e2"
      },
      "execution_count": 9,
      "outputs": [
        {
          "output_type": "execute_result",
          "data": {
            "text/plain": [
              "[Text(0.6495726495726496, 0.95, 'X[27] <= 0.142\\ngini = 0.462\\nsamples = 455\\nvalue = [165, 290]'),\n",
              " Text(0.5042735042735043, 0.85, 'X[23] <= 957.45\\ngini = 0.146\\nsamples = 303\\nvalue = [24, 279]'),\n",
              " Text(0.4188034188034188, 0.75, 'X[22] <= 107.75\\ngini = 0.073\\nsamples = 288\\nvalue = [11, 277]'),\n",
              " Text(0.3504273504273504, 0.65, 'X[10] <= 1.048\\ngini = 0.036\\nsamples = 269\\nvalue = [5, 264]'),\n",
              " Text(0.3162393162393162, 0.55, 'X[13] <= 48.975\\ngini = 0.029\\nsamples = 268\\nvalue = [4, 264]'),\n",
              " Text(0.2222222222222222, 0.45, 'X[6] <= 0.139\\ngini = 0.022\\nsamples = 265\\nvalue = [3, 262]'),\n",
              " Text(0.13675213675213677, 0.35, 'X[14] <= 0.003\\ngini = 0.015\\nsamples = 262\\nvalue = [2, 260]'),\n",
              " Text(0.06837606837606838, 0.25, 'X[20] <= 15.635\\ngini = 0.278\\nsamples = 6\\nvalue = [1, 5]'),\n",
              " Text(0.03418803418803419, 0.15, 'gini = 0.0\\nsamples = 5\\nvalue = [0, 5]'),\n",
              " Text(0.10256410256410256, 0.15, 'gini = 0.0\\nsamples = 1\\nvalue = [1, 0]'),\n",
              " Text(0.20512820512820512, 0.25, 'X[21] <= 32.83\\ngini = 0.008\\nsamples = 256\\nvalue = [1, 255]'),\n",
              " Text(0.17094017094017094, 0.15, 'gini = 0.0\\nsamples = 239\\nvalue = [0, 239]'),\n",
              " Text(0.23931623931623933, 0.15, 'X[21] <= 33.805\\ngini = 0.111\\nsamples = 17\\nvalue = [1, 16]'),\n",
              " Text(0.20512820512820512, 0.05, 'gini = 0.0\\nsamples = 1\\nvalue = [1, 0]'),\n",
              " Text(0.27350427350427353, 0.05, 'gini = 0.0\\nsamples = 16\\nvalue = [0, 16]'),\n",
              " Text(0.3076923076923077, 0.35, 'X[19] <= 0.006\\ngini = 0.444\\nsamples = 3\\nvalue = [1, 2]'),\n",
              " Text(0.27350427350427353, 0.25, 'gini = 0.0\\nsamples = 1\\nvalue = [1, 0]'),\n",
              " Text(0.3418803418803419, 0.25, 'gini = 0.0\\nsamples = 2\\nvalue = [0, 2]'),\n",
              " Text(0.41025641025641024, 0.45, 'X[16] <= 0.017\\ngini = 0.444\\nsamples = 3\\nvalue = [1, 2]'),\n",
              " Text(0.37606837606837606, 0.35, 'gini = 0.0\\nsamples = 1\\nvalue = [1, 0]'),\n",
              " Text(0.4444444444444444, 0.35, 'gini = 0.0\\nsamples = 2\\nvalue = [0, 2]'),\n",
              " Text(0.38461538461538464, 0.55, 'gini = 0.0\\nsamples = 1\\nvalue = [1, 0]'),\n",
              " Text(0.48717948717948717, 0.65, 'X[2] <= 91.92\\ngini = 0.432\\nsamples = 19\\nvalue = [6, 13]'),\n",
              " Text(0.452991452991453, 0.55, 'gini = 0.0\\nsamples = 4\\nvalue = [4, 0]'),\n",
              " Text(0.5213675213675214, 0.55, 'X[18] <= 0.023\\ngini = 0.231\\nsamples = 15\\nvalue = [2, 13]'),\n",
              " Text(0.48717948717948717, 0.45, 'gini = 0.0\\nsamples = 13\\nvalue = [0, 13]'),\n",
              " Text(0.5555555555555556, 0.45, 'gini = 0.0\\nsamples = 2\\nvalue = [2, 0]'),\n",
              " Text(0.5897435897435898, 0.75, 'X[8] <= 0.152\\ngini = 0.231\\nsamples = 15\\nvalue = [13, 2]'),\n",
              " Text(0.5555555555555556, 0.65, 'gini = 0.0\\nsamples = 2\\nvalue = [0, 2]'),\n",
              " Text(0.6239316239316239, 0.65, 'gini = 0.0\\nsamples = 13\\nvalue = [13, 0]'),\n",
              " Text(0.7948717948717948, 0.85, 'X[23] <= 729.55\\ngini = 0.134\\nsamples = 152\\nvalue = [141, 11]'),\n",
              " Text(0.7264957264957265, 0.75, 'X[4] <= 0.108\\ngini = 0.49\\nsamples = 14\\nvalue = [6, 8]'),\n",
              " Text(0.6923076923076923, 0.65, 'gini = 0.0\\nsamples = 8\\nvalue = [0, 8]'),\n",
              " Text(0.7606837606837606, 0.65, 'gini = 0.0\\nsamples = 6\\nvalue = [6, 0]'),\n",
              " Text(0.8632478632478633, 0.75, 'X[11] <= 0.431\\ngini = 0.043\\nsamples = 138\\nvalue = [135, 3]'),\n",
              " Text(0.8290598290598291, 0.65, 'gini = 0.0\\nsamples = 1\\nvalue = [0, 1]'),\n",
              " Text(0.8974358974358975, 0.65, 'X[26] <= 0.203\\ngini = 0.029\\nsamples = 137\\nvalue = [135, 2]'),\n",
              " Text(0.8632478632478633, 0.55, 'gini = 0.0\\nsamples = 1\\nvalue = [0, 1]'),\n",
              " Text(0.9316239316239316, 0.55, 'X[1] <= 15.37\\ngini = 0.015\\nsamples = 136\\nvalue = [135, 1]'),\n",
              " Text(0.8974358974358975, 0.45, 'X[10] <= 0.34\\ngini = 0.32\\nsamples = 5\\nvalue = [4, 1]'),\n",
              " Text(0.8632478632478633, 0.35, 'gini = 0.0\\nsamples = 1\\nvalue = [0, 1]'),\n",
              " Text(0.9316239316239316, 0.35, 'gini = 0.0\\nsamples = 4\\nvalue = [4, 0]'),\n",
              " Text(0.9658119658119658, 0.45, 'gini = 0.0\\nsamples = 131\\nvalue = [131, 0]')]"
            ]
          },
          "metadata": {},
          "execution_count": 9
        },
        {
          "output_type": "display_data",
          "data": {
            "text/plain": [
              "<Figure size 1080x1080 with 1 Axes>"
            ],
            "image/png": "[encoded data removed]"
          },
          "metadata": {
            "needs_background": "light"
          }
        }
      ]
    },
    {
      "cell_type": "code",
      "source": [
        "Y_pred = model.predict(X_test)"
      ],
      "metadata": {
        "id": "x9GMiLHklvxf"
      },
      "execution_count": 10,
      "outputs": []
    },
    {
      "cell_type": "code",
      "source": [
        "print('train score ',model.score(X_train,Y_train))"
      ],
      "metadata": {
        "colab": {
          "base_uri": "https://localhost:8080/"
        },
        "id": "L0GxK6xAy13C",
        "outputId": "eaea3747-057b-434f-a98c-221071d9222a"
      },
      "execution_count": 11,
      "outputs": [
        {
          "output_type": "stream",
          "name": "stdout",
          "text": [
            "train score  1.0\n"
          ]
        }
      ]
    },
    {
      "cell_type": "code",
      "source": [
        "print('test score ',model.score(X_test,Y_test))"
      ],
      "metadata": {
        "colab": {
          "base_uri": "https://localhost:8080/"
        },
        "id": "gXTnwEJ1yIKR",
        "outputId": "c0abff58-4faf-44e3-b254-67fd9aa52f17"
      },
      "execution_count": 12,
      "outputs": [
        {
          "output_type": "stream",
          "name": "stdout",
          "text": [
            "test score  0.9035087719298246\n"
          ]
        }
      ]
    },
    {
      "cell_type": "code",
      "source": [
        "# confusion matrix \n",
        "cm = confusion_matrix(Y_test,Y_pred)\n",
        "fig = ConfusionMatrixDisplay(cm , display_labels=model.classes_ )\n",
        "fig.plot()"
      ],
      "metadata": {
        "colab": {
          "base_uri": "https://localhost:8080/",
          "height": 296
        },
        "id": "8OTKFLW578Gu",
        "outputId": "84e307fc-2587-4876-e5a3-287f75067491"
      },
      "execution_count": 13,
      "outputs": [
        {
          "output_type": "execute_result",
          "data": {
            "text/plain": [
              "<sklearn.metrics._plot.confusion_matrix.ConfusionMatrixDisplay at 0x7f03e36da790>"
            ]
          },
          "metadata": {},
          "execution_count": 13
        },
        {
          "output_type": "display_data",
          "data": {
            "text/plain": [
              "<Figure size 432x288 with 2 Axes>"
            ],
            "image/png": "[encoded data removed]"
          },
          "metadata": {
            "needs_background": "light"
          }
        }
      ]
    },
    {
      "cell_type": "markdown",
      "source": [
        "Handling Overfitting in Decision Trees ( Train error = 0 always )\n",
        "<ul><li>Pre Prunning </li>\n",
        "<li>Post Prunning ( Cost Complexity Pruning )</li></ul> "
      ],
      "metadata": {
        "id": "F19M8PnW0y18"
      }
    },
    {
      "cell_type": "markdown",
      "source": [
        "##Pre Prunning "
      ],
      "metadata": {
        "id": "k9QLc4aVzYQz"
      }
    },
    {
      "cell_type": "code",
      "source": [
        "parameter={\n",
        " 'criterion':['gini','entropy',],\n",
        "  'splitter':['best','random'],\n",
        "  'max_depth':[1,2,3,4,5],\n",
        "  'max_features':['auto', 'sqrt', 'log2']\n",
        "    \n",
        "}"
      ],
      "metadata": {
        "id": "Xv8YJy0T00dn"
      },
      "execution_count": 14,
      "outputs": []
    },
    {
      "cell_type": "code",
      "source": [
        "pre_prunning_model=DecisionTreeClassifier()\n",
        "cv=GridSearchCV(pre_prunning_model,param_grid=parameter,cv=5,scoring='accuracy')\n",
        "cv.fit(X_train,Y_train)"
      ],
      "metadata": {
        "colab": {
          "base_uri": "https://localhost:8080/"
        },
        "id": "Na3CaqEH07_0",
        "outputId": "55832971-7ddb-41fb-8e99-4193a58726f9"
      },
      "execution_count": 15,
      "outputs": [
        {
          "output_type": "execute_result",
          "data": {
            "text/plain": [
              "GridSearchCV(cv=5, estimator=DecisionTreeClassifier(),\n",
              "             param_grid={'criterion': ['gini', 'entropy'],\n",
              "                         'max_depth': [1, 2, 3, 4, 5],\n",
              "                         'max_features': ['auto', 'sqrt', 'log2'],\n",
              "                         'splitter': ['best', 'random']},\n",
              "             scoring='accuracy')"
            ]
          },
          "metadata": {},
          "execution_count": 15
        }
      ]
    },
    {
      "cell_type": "code",
      "source": [
        "cv.cv_results_"
      ],
      "metadata": {
        "colab": {
          "base_uri": "https://localhost:8080/"
        },
        "id": "tzUG4yC42RCK",
        "outputId": "2938ed74-8ff2-4b74-e86b-a01d8667cb56"
      },
      "execution_count": 16,
      "outputs": [
        {
          "output_type": "execute_result",
          "data": {
            "text/plain": [
              "{'mean_fit_time': array([0.0027173 , 0.00193262, 0.00222211, 0.00203567, 0.0020607 ,\n",
              "        0.00189376, 0.00275707, 0.00284343, 0.00348897, 0.00199847,\n",
              "        0.00240879, 0.00196471, 0.00257969, 0.00196462, 0.00246997,\n",
              "        0.00197415, 0.00243092, 0.00196705, 0.00269451, 0.00204496,\n",
              "        0.00278406, 0.00197277, 0.00335541, 0.00207896, 0.00291719,\n",
              "        0.00202465, 0.00277748, 0.00197158, 0.0025713 , 0.00210066,\n",
              "        0.00222173, 0.001895  , 0.00229664, 0.00197887, 0.00222645,\n",
              "        0.00204701, 0.00289555, 0.00207047, 0.0026907 , 0.00207615,\n",
              "        0.00269518, 0.00207653, 0.00289607, 0.00327725, 0.00344081,\n",
              "        0.00200758, 0.00273857, 0.00195804, 0.00313082, 0.0026957 ,\n",
              "        0.00336466, 0.00202527, 0.00281053, 0.00185938, 0.00345435,\n",
              "        0.00199656, 0.00313902, 0.00200686, 0.00301213, 0.00207081]),\n",
              " 'std_fit_time': array([8.94664610e-04, 4.84608269e-05, 1.32349364e-04, 1.12717930e-04,\n",
              "        6.18927284e-05, 4.22325387e-05, 6.24345309e-04, 2.78027894e-04,\n",
              "        6.44733414e-04, 6.02580307e-05, 1.87179048e-04, 4.04757514e-05,\n",
              "        9.03263505e-05, 2.43048535e-05, 4.04748526e-05, 4.05750038e-05,\n",
              "        1.10147010e-04, 7.55561380e-05, 2.15074206e-04, 1.89177978e-04,\n",
              "        3.06473795e-04, 9.12399711e-05, 6.60431352e-04, 1.27359036e-04,\n",
              "        8.92103067e-05, 7.04198243e-05, 9.28417499e-05, 1.03418780e-04,\n",
              "        2.32691648e-05, 2.17725350e-04, 6.19302253e-05, 6.40217416e-05,\n",
              "        1.07069683e-04, 2.40105621e-04, 6.47689160e-05, 1.77668105e-04,\n",
              "        2.48730731e-04, 3.52183545e-05, 6.51499173e-05, 4.98638080e-05,\n",
              "        1.82869108e-04, 1.40422317e-04, 1.01137038e-04, 1.33152232e-04,\n",
              "        9.00501480e-04, 1.03402509e-04, 6.18573041e-05, 2.42417183e-05,\n",
              "        5.15940449e-05, 4.42501610e-04, 4.24817208e-04, 1.05325827e-04,\n",
              "        1.10960058e-04, 1.16180608e-04, 5.66655323e-04, 3.24723654e-05,\n",
              "        1.26374352e-04, 6.23274869e-05, 1.51851441e-04, 1.50000920e-04]),\n",
              " 'mean_score_time': array([0.00177279, 0.00147414, 0.00149512, 0.00151687, 0.00147386,\n",
              "        0.00144935, 0.00168757, 0.00207086, 0.00206838, 0.00147414,\n",
              "        0.00148211, 0.00143862, 0.00149546, 0.00147119, 0.0014956 ,\n",
              "        0.001473  , 0.00149479, 0.00148211, 0.00147352, 0.00149035,\n",
              "        0.00170135, 0.00147486, 0.0020381 , 0.00159488, 0.00170655,\n",
              "        0.00155683, 0.00151658, 0.00147634, 0.00148764, 0.00162768,\n",
              "        0.00144477, 0.0014554 , 0.00145202, 0.00141087, 0.001478  ,\n",
              "        0.00153308, 0.00163002, 0.0015492 , 0.00156822, 0.00156941,\n",
              "        0.0015923 , 0.00151315, 0.00150409, 0.00242772, 0.00159883,\n",
              "        0.00144567, 0.00158763, 0.00149913, 0.00150652, 0.00227613,\n",
              "        0.00167499, 0.00149908, 0.00148091, 0.00140853, 0.00169125,\n",
              "        0.00148811, 0.00154629, 0.00145063, 0.00146208, 0.00148153]),\n",
              " 'std_score_time': array([4.79638777e-04, 3.39550246e-05, 5.35443755e-05, 1.02769238e-04,\n",
              "        3.73115250e-05, 2.73980191e-05, 3.35783242e-04, 1.88833680e-04,\n",
              "        5.46353902e-04, 3.63389336e-05, 3.45526352e-05, 6.43629490e-05,\n",
              "        5.56061644e-05, 7.91247437e-05, 2.15965650e-05, 2.70667153e-05,\n",
              "        5.97991820e-05, 5.57672422e-05, 5.46546915e-05, 3.43239960e-05,\n",
              "        4.12921239e-04, 3.81102982e-05, 3.96164381e-04, 1.17749006e-04,\n",
              "        1.47699061e-04, 1.01854850e-04, 9.92072285e-05, 5.65647061e-05,\n",
              "        3.44234158e-05, 2.79993891e-04, 6.20055910e-05, 7.79389715e-05,\n",
              "        5.11651826e-05, 5.13800833e-05, 5.81958996e-05, 1.09156493e-04,\n",
              "        1.09749270e-04, 6.60104194e-05, 6.95423470e-05, 4.41355487e-05,\n",
              "        2.11118810e-05, 5.51077302e-05, 5.79280809e-05, 1.08102949e-04,\n",
              "        1.70766897e-04, 2.27919183e-05, 1.69835513e-04, 4.04290428e-05,\n",
              "        3.49360594e-05, 3.94333934e-04, 1.99341122e-04, 6.17235449e-05,\n",
              "        5.23374345e-05, 9.12271113e-05, 3.69857432e-04, 6.20334905e-05,\n",
              "        1.49055330e-04, 5.71545778e-05, 4.15911901e-05, 5.49774840e-05]),\n",
              " 'param_criterion': masked_array(data=['gini', 'gini', 'gini', 'gini', 'gini', 'gini', 'gini',\n",
              "                    'gini', 'gini', 'gini', 'gini', 'gini', 'gini', 'gini',\n",
              "                    'gini', 'gini', 'gini', 'gini', 'gini', 'gini', 'gini',\n",
              "                    'gini', 'gini', 'gini', 'gini', 'gini', 'gini', 'gini',\n",
              "                    'gini', 'gini', 'entropy', 'entropy', 'entropy',\n",
              "                    'entropy', 'entropy', 'entropy', 'entropy', 'entropy',\n",
              "                    'entropy', 'entropy', 'entropy', 'entropy', 'entropy',\n",
              "                    'entropy', 'entropy', 'entropy', 'entropy', 'entropy',\n",
              "                    'entropy', 'entropy', 'entropy', 'entropy', 'entropy',\n",
              "                    'entropy', 'entropy', 'entropy', 'entropy', 'entropy',\n",
              "                    'entropy', 'entropy'],\n",
              "              mask=[False, False, False, False, False, False, False, False,\n",
              "                    False, False, False, False, False, False, False, False,\n",
              "                    False, False, False, False, False, False, False, False,\n",
              "                    False, False, False, False, False, False, False, False,\n",
              "                    False, False, False, False, False, False, False, False,\n",
              "                    False, False, False, False, False, False, False, False,\n",
              "                    False, False, False, False, False, False, False, False,\n",
              "                    False, False, False, False],\n",
              "        fill_value='?',\n",
              "             dtype=object),\n",
              " 'param_max_depth': masked_array(data=[1, 1, 1, 1, 1, 1, 2, 2, 2, 2, 2, 2, 3, 3, 3, 3, 3, 3,\n",
              "                    4, 4, 4, 4, 4, 4, 5, 5, 5, 5, 5, 5, 1, 1, 1, 1, 1, 1,\n",
              "                    2, 2, 2, 2, 2, 2, 3, 3, 3, 3, 3, 3, 4, 4, 4, 4, 4, 4,\n",
              "                    5, 5, 5, 5, 5, 5],\n",
              "              mask=[False, False, False, False, False, False, False, False,\n",
              "                    False, False, False, False, False, False, False, False,\n",
              "                    False, False, False, False, False, False, False, False,\n",
              "                    False, False, False, False, False, False, False, False,\n",
              "                    False, False, False, False, False, False, False, False,\n",
              "                    False, False, False, False, False, False, False, False,\n",
              "                    False, False, False, False, False, False, False, False,\n",
              "                    False, False, False, False],\n",
              "        fill_value='?',\n",
              "             dtype=object),\n",
              " 'param_max_features': masked_array(data=['auto', 'auto', 'sqrt', 'sqrt', 'log2', 'log2', 'auto',\n",
              "                    'auto', 'sqrt', 'sqrt', 'log2', 'log2', 'auto', 'auto',\n",
              "                    'sqrt', 'sqrt', 'log2', 'log2', 'auto', 'auto', 'sqrt',\n",
              "                    'sqrt', 'log2', 'log2', 'auto', 'auto', 'sqrt', 'sqrt',\n",
              "                    'log2', 'log2', 'auto', 'auto', 'sqrt', 'sqrt', 'log2',\n",
              "                    'log2', 'auto', 'auto', 'sqrt', 'sqrt', 'log2', 'log2',\n",
              "                    'auto', 'auto', 'sqrt', 'sqrt', 'log2', 'log2', 'auto',\n",
              "                    'auto', 'sqrt', 'sqrt', 'log2', 'log2', 'auto', 'auto',\n",
              "                    'sqrt', 'sqrt', 'log2', 'log2'],\n",
              "              mask=[False, False, False, False, False, False, False, False,\n",
              "                    False, False, False, False, False, False, False, False,\n",
              "                    False, False, False, False, False, False, False, False,\n",
              "                    False, False, False, False, False, False, False, False,\n",
              "                    False, False, False, False, False, False, False, False,\n",
              "                    False, False, False, False, False, False, False, False,\n",
              "                    False, False, False, False, False, False, False, False,\n",
              "                    False, False, False, False],\n",
              "        fill_value='?',\n",
              "             dtype=object),\n",
              " 'param_splitter': masked_array(data=['best', 'random', 'best', 'random', 'best', 'random',\n",
              "                    'best', 'random', 'best', 'random', 'best', 'random',\n",
              "                    'best', 'random', 'best', 'random', 'best', 'random',\n",
              "                    'best', 'random', 'best', 'random', 'best', 'random',\n",
              "                    'best', 'random', 'best', 'random', 'best', 'random',\n",
              "                    'best', 'random', 'best', 'random', 'best', 'random',\n",
              "                    'best', 'random', 'best', 'random', 'best', 'random',\n",
              "                    'best', 'random', 'best', 'random', 'best', 'random',\n",
              "                    'best', 'random', 'best', 'random', 'best', 'random',\n",
              "                    'best', 'random', 'best', 'random', 'best', 'random'],\n",
              "              mask=[False, False, False, False, False, False, False, False,\n",
              "                    False, False, False, False, False, False, False, False,\n",
              "                    False, False, False, False, False, False, False, False,\n",
              "                    False, False, False, False, False, False, False, False,\n",
              "                    False, False, False, False, False, False, False, False,\n",
              "                    False, False, False, False, False, False, False, False,\n",
              "                    False, False, False, False, False, False, False, False,\n",
              "                    False, False, False, False],\n",
              "        fill_value='?',\n",
              "             dtype=object),\n",
              " 'params': [{'criterion': 'gini',\n",
              "   'max_depth': 1,\n",
              "   'max_features': 'auto',\n",
              "   'splitter': 'best'},\n",
              "  {'criterion': 'gini',\n",
              "   'max_depth': 1,\n",
              "   'max_features': 'auto',\n",
              "   'splitter': 'random'},\n",
              "  {'criterion': 'gini',\n",
              "   'max_depth': 1,\n",
              "   'max_features': 'sqrt',\n",
              "   'splitter': 'best'},\n",
              "  {'criterion': 'gini',\n",
              "   'max_depth': 1,\n",
              "   'max_features': 'sqrt',\n",
              "   'splitter': 'random'},\n",
              "  {'criterion': 'gini',\n",
              "   'max_depth': 1,\n",
              "   'max_features': 'log2',\n",
              "   'splitter': 'best'},\n",
              "  {'criterion': 'gini',\n",
              "   'max_depth': 1,\n",
              "   'max_features': 'log2',\n",
              "   'splitter': 'random'},\n",
              "  {'criterion': 'gini',\n",
              "   'max_depth': 2,\n",
              "   'max_features': 'auto',\n",
              "   'splitter': 'best'},\n",
              "  {'criterion': 'gini',\n",
              "   'max_depth': 2,\n",
              "   'max_features': 'auto',\n",
              "   'splitter': 'random'},\n",
              "  {'criterion': 'gini',\n",
              "   'max_depth': 2,\n",
              "   'max_features': 'sqrt',\n",
              "   'splitter': 'best'},\n",
              "  {'criterion': 'gini',\n",
              "   'max_depth': 2,\n",
              "   'max_features': 'sqrt',\n",
              "   'splitter': 'random'},\n",
              "  {'criterion': 'gini',\n",
              "   'max_depth': 2,\n",
              "   'max_features': 'log2',\n",
              "   'splitter': 'best'},\n",
              "  {'criterion': 'gini',\n",
              "   'max_depth': 2,\n",
              "   'max_features': 'log2',\n",
              "   'splitter': 'random'},\n",
              "  {'criterion': 'gini',\n",
              "   'max_depth': 3,\n",
              "   'max_features': 'auto',\n",
              "   'splitter': 'best'},\n",
              "  {'criterion': 'gini',\n",
              "   'max_depth': 3,\n",
              "   'max_features': 'auto',\n",
              "   'splitter': 'random'},\n",
              "  {'criterion': 'gini',\n",
              "   'max_depth': 3,\n",
              "   'max_features': 'sqrt',\n",
              "   'splitter': 'best'},\n",
              "  {'criterion': 'gini',\n",
              "   'max_depth': 3,\n",
              "   'max_features': 'sqrt',\n",
              "   'splitter': 'random'},\n",
              "  {'criterion': 'gini',\n",
              "   'max_depth': 3,\n",
              "   'max_features': 'log2',\n",
              "   'splitter': 'best'},\n",
              "  {'criterion': 'gini',\n",
              "   'max_depth': 3,\n",
              "   'max_features': 'log2',\n",
              "   'splitter': 'random'},\n",
              "  {'criterion': 'gini',\n",
              "   'max_depth': 4,\n",
              "   'max_features': 'auto',\n",
              "   'splitter': 'best'},\n",
              "  {'criterion': 'gini',\n",
              "   'max_depth': 4,\n",
              "   'max_features': 'auto',\n",
              "   'splitter': 'random'},\n",
              "  {'criterion': 'gini',\n",
              "   'max_depth': 4,\n",
              "   'max_features': 'sqrt',\n",
              "   'splitter': 'best'},\n",
              "  {'criterion': 'gini',\n",
              "   'max_depth': 4,\n",
              "   'max_features': 'sqrt',\n",
              "   'splitter': 'random'},\n",
              "  {'criterion': 'gini',\n",
              "   'max_depth': 4,\n",
              "   'max_features': 'log2',\n",
              "   'splitter': 'best'},\n",
              "  {'criterion': 'gini',\n",
              "   'max_depth': 4,\n",
              "   'max_features': 'log2',\n",
              "   'splitter': 'random'},\n",
              "  {'criterion': 'gini',\n",
              "   'max_depth': 5,\n",
              "   'max_features': 'auto',\n",
              "   'splitter': 'best'},\n",
              "  {'criterion': 'gini',\n",
              "   'max_depth': 5,\n",
              "   'max_features': 'auto',\n",
              "   'splitter': 'random'},\n",
              "  {'criterion': 'gini',\n",
              "   'max_depth': 5,\n",
              "   'max_features': 'sqrt',\n",
              "   'splitter': 'best'},\n",
              "  {'criterion': 'gini',\n",
              "   'max_depth': 5,\n",
              "   'max_features': 'sqrt',\n",
              "   'splitter': 'random'},\n",
              "  {'criterion': 'gini',\n",
              "   'max_depth': 5,\n",
              "   'max_features': 'log2',\n",
              "   'splitter': 'best'},\n",
              "  {'criterion': 'gini',\n",
              "   'max_depth': 5,\n",
              "   'max_features': 'log2',\n",
              "   'splitter': 'random'},\n",
              "  {'criterion': 'entropy',\n",
              "   'max_depth': 1,\n",
              "   'max_features': 'auto',\n",
              "   'splitter': 'best'},\n",
              "  {'criterion': 'entropy',\n",
              "   'max_depth': 1,\n",
              "   'max_features': 'auto',\n",
              "   'splitter': 'random'},\n",
              "  {'criterion': 'entropy',\n",
              "   'max_depth': 1,\n",
              "   'max_features': 'sqrt',\n",
              "   'splitter': 'best'},\n",
              "  {'criterion': 'entropy',\n",
              "   'max_depth': 1,\n",
              "   'max_features': 'sqrt',\n",
              "   'splitter': 'random'},\n",
              "  {'criterion': 'entropy',\n",
              "   'max_depth': 1,\n",
              "   'max_features': 'log2',\n",
              "   'splitter': 'best'},\n",
              "  {'criterion': 'entropy',\n",
              "   'max_depth': 1,\n",
              "   'max_features': 'log2',\n",
              "   'splitter': 'random'},\n",
              "  {'criterion': 'entropy',\n",
              "   'max_depth': 2,\n",
              "   'max_features': 'auto',\n",
              "   'splitter': 'best'},\n",
              "  {'criterion': 'entropy',\n",
              "   'max_depth': 2,\n",
              "   'max_features': 'auto',\n",
              "   'splitter': 'random'},\n",
              "  {'criterion': 'entropy',\n",
              "   'max_depth': 2,\n",
              "   'max_features': 'sqrt',\n",
              "   'splitter': 'best'},\n",
              "  {'criterion': 'entropy',\n",
              "   'max_depth': 2,\n",
              "   'max_features': 'sqrt',\n",
              "   'splitter': 'random'},\n",
              "  {'criterion': 'entropy',\n",
              "   'max_depth': 2,\n",
              "   'max_features': 'log2',\n",
              "   'splitter': 'best'},\n",
              "  {'criterion': 'entropy',\n",
              "   'max_depth': 2,\n",
              "   'max_features': 'log2',\n",
              "   'splitter': 'random'},\n",
              "  {'criterion': 'entropy',\n",
              "   'max_depth': 3,\n",
              "   'max_features': 'auto',\n",
              "   'splitter': 'best'},\n",
              "  {'criterion': 'entropy',\n",
              "   'max_depth': 3,\n",
              "   'max_features': 'auto',\n",
              "   'splitter': 'random'},\n",
              "  {'criterion': 'entropy',\n",
              "   'max_depth': 3,\n",
              "   'max_features': 'sqrt',\n",
              "   'splitter': 'best'},\n",
              "  {'criterion': 'entropy',\n",
              "   'max_depth': 3,\n",
              "   'max_features': 'sqrt',\n",
              "   'splitter': 'random'},\n",
              "  {'criterion': 'entropy',\n",
              "   'max_depth': 3,\n",
              "   'max_features': 'log2',\n",
              "   'splitter': 'best'},\n",
              "  {'criterion': 'entropy',\n",
              "   'max_depth': 3,\n",
              "   'max_features': 'log2',\n",
              "   'splitter': 'random'},\n",
              "  {'criterion': 'entropy',\n",
              "   'max_depth': 4,\n",
              "   'max_features': 'auto',\n",
              "   'splitter': 'best'},\n",
              "  {'criterion': 'entropy',\n",
              "   'max_depth': 4,\n",
              "   'max_features': 'auto',\n",
              "   'splitter': 'random'},\n",
              "  {'criterion': 'entropy',\n",
              "   'max_depth': 4,\n",
              "   'max_features': 'sqrt',\n",
              "   'splitter': 'best'},\n",
              "  {'criterion': 'entropy',\n",
              "   'max_depth': 4,\n",
              "   'max_features': 'sqrt',\n",
              "   'splitter': 'random'},\n",
              "  {'criterion': 'entropy',\n",
              "   'max_depth': 4,\n",
              "   'max_features': 'log2',\n",
              "   'splitter': 'best'},\n",
              "  {'criterion': 'entropy',\n",
              "   'max_depth': 4,\n",
              "   'max_features': 'log2',\n",
              "   'splitter': 'random'},\n",
              "  {'criterion': 'entropy',\n",
              "   'max_depth': 5,\n",
              "   'max_features': 'auto',\n",
              "   'splitter': 'best'},\n",
              "  {'criterion': 'entropy',\n",
              "   'max_depth': 5,\n",
              "   'max_features': 'auto',\n",
              "   'splitter': 'random'},\n",
              "  {'criterion': 'entropy',\n",
              "   'max_depth': 5,\n",
              "   'max_features': 'sqrt',\n",
              "   'splitter': 'best'},\n",
              "  {'criterion': 'entropy',\n",
              "   'max_depth': 5,\n",
              "   'max_features': 'sqrt',\n",
              "   'splitter': 'random'},\n",
              "  {'criterion': 'entropy',\n",
              "   'max_depth': 5,\n",
              "   'max_features': 'log2',\n",
              "   'splitter': 'best'},\n",
              "  {'criterion': 'entropy',\n",
              "   'max_depth': 5,\n",
              "   'max_features': 'log2',\n",
              "   'splitter': 'random'}],\n",
              " 'split0_test_score': array([0.89010989, 0.81318681, 0.89010989, 0.87912088, 0.86813187,\n",
              "        0.84615385, 0.85714286, 0.89010989, 0.91208791, 0.86813187,\n",
              "        0.89010989, 0.85714286, 0.91208791, 0.83516484, 0.9010989 ,\n",
              "        0.86813187, 0.89010989, 0.81318681, 0.9010989 , 0.91208791,\n",
              "        0.87912088, 0.95604396, 0.94505495, 0.86813187, 0.86813187,\n",
              "        0.87912088, 0.92307692, 0.92307692, 0.87912088, 0.89010989,\n",
              "        0.78021978, 0.87912088, 0.8021978 , 0.78021978, 0.71428571,\n",
              "        0.78021978, 0.89010989, 0.82417582, 0.92307692, 0.8021978 ,\n",
              "        0.89010989, 0.87912088, 0.9010989 , 0.78021978, 0.89010989,\n",
              "        0.89010989, 0.94505495, 0.84615385, 0.91208791, 0.89010989,\n",
              "        0.91208791, 0.92307692, 0.87912088, 0.84615385, 0.92307692,\n",
              "        0.84615385, 0.92307692, 0.9010989 , 0.95604396, 0.85714286]),\n",
              " 'split1_test_score': array([0.89010989, 0.89010989, 0.86813187, 0.85714286, 0.86813187,\n",
              "        0.81318681, 0.91208791, 0.68131868, 0.94505495, 0.79120879,\n",
              "        0.9010989 , 0.78021978, 0.96703297, 0.83516484, 0.95604396,\n",
              "        0.9010989 , 0.93406593, 0.91208791, 0.93406593, 0.81318681,\n",
              "        0.94505495, 0.9010989 , 0.94505495, 0.83516484, 0.94505495,\n",
              "        0.85714286, 0.93406593, 0.91208791, 0.9010989 , 0.93406593,\n",
              "        0.9010989 , 0.81318681, 0.93406593, 0.71428571, 0.9010989 ,\n",
              "        0.9010989 , 0.9010989 , 0.74725275, 0.93406593, 0.89010989,\n",
              "        0.9010989 , 0.72527473, 0.92307692, 0.8021978 , 0.9010989 ,\n",
              "        0.82417582, 0.9010989 , 0.89010989, 0.94505495, 0.93406593,\n",
              "        0.89010989, 0.92307692, 0.91208791, 0.91208791, 0.9010989 ,\n",
              "        0.9010989 , 0.94505495, 0.94505495, 0.94505495, 0.86813187]),\n",
              " 'split2_test_score': array([0.89010989, 0.63736264, 0.87912088, 0.67032967, 0.87912088,\n",
              "        0.64835165, 0.89010989, 0.84615385, 0.83516484, 0.8021978 ,\n",
              "        0.9010989 , 0.89010989, 0.91208791, 0.8021978 , 0.94505495,\n",
              "        0.87912088, 0.91208791, 0.75824176, 0.91208791, 0.85714286,\n",
              "        0.87912088, 0.91208791, 0.89010989, 0.83516484, 0.89010989,\n",
              "        0.86813187, 0.86813187, 0.91208791, 0.9010989 , 0.89010989,\n",
              "        0.87912088, 0.86813187, 0.81318681, 0.87912088, 0.79120879,\n",
              "        0.86813187, 0.91208791, 0.78021978, 0.87912088, 0.64835165,\n",
              "        0.85714286, 0.84615385, 0.85714286, 0.92307692, 0.92307692,\n",
              "        0.9010989 , 0.9010989 , 0.89010989, 0.92307692, 0.86813187,\n",
              "        0.92307692, 0.78021978, 0.94505495, 0.89010989, 0.9010989 ,\n",
              "        0.89010989, 0.91208791, 0.92307692, 0.92307692, 0.9010989 ]),\n",
              " 'split3_test_score': array([0.91208791, 0.86813187, 0.86813187, 0.74725275, 0.92307692,\n",
              "        0.63736264, 0.93406593, 0.91208791, 0.9010989 , 0.63736264,\n",
              "        0.93406593, 0.68131868, 0.87912088, 0.83516484, 0.93406593,\n",
              "        0.84615385, 0.93406593, 0.89010989, 0.93406593, 0.91208791,\n",
              "        0.92307692, 0.91208791, 0.93406593, 0.92307692, 0.96703297,\n",
              "        0.89010989, 0.93406593, 0.83516484, 0.95604396, 0.93406593,\n",
              "        0.86813187, 0.74725275, 0.93406593, 0.63736264, 0.86813187,\n",
              "        0.85714286, 0.89010989, 0.74725275, 0.93406593, 0.91208791,\n",
              "        0.91208791, 0.82417582, 0.93406593, 0.91208791, 0.91208791,\n",
              "        0.86813187, 0.93406593, 0.92307692, 0.91208791, 0.86813187,\n",
              "        0.96703297, 0.92307692, 0.94505495, 0.87912088, 0.93406593,\n",
              "        0.9010989 , 0.95604396, 0.93406593, 0.93406593, 0.82417582]),\n",
              " 'split4_test_score': array([0.87912088, 0.62637363, 0.87912088, 0.63736264, 0.87912088,\n",
              "        0.75824176, 0.87912088, 0.82417582, 0.87912088, 0.9010989 ,\n",
              "        0.94505495, 0.85714286, 0.91208791, 0.89010989, 0.94505495,\n",
              "        0.9010989 , 0.9010989 , 0.87912088, 0.87912088, 0.74725275,\n",
              "        0.93406593, 0.84615385, 0.93406593, 0.84615385, 0.93406593,\n",
              "        0.93406593, 0.83516484, 0.94505495, 0.96703297, 0.89010989,\n",
              "        0.89010989, 0.72527473, 0.89010989, 0.87912088, 0.87912088,\n",
              "        0.8021978 , 0.92307692, 0.8021978 , 0.87912088, 0.74725275,\n",
              "        0.91208791, 0.69230769, 0.95604396, 0.82417582, 0.96703297,\n",
              "        0.89010989, 0.9010989 , 0.73626374, 0.96703297, 0.9010989 ,\n",
              "        0.93406593, 0.9010989 , 0.96703297, 0.91208791, 0.96703297,\n",
              "        0.92307692, 0.93406593, 0.96703297, 0.91208791, 0.87912088]),\n",
              " 'mean_test_score': array([0.89230769, 0.76703297, 0.87692308, 0.75824176, 0.88351648,\n",
              "        0.74065934, 0.89450549, 0.83076923, 0.89450549, 0.8       ,\n",
              "        0.91428571, 0.81318681, 0.91648352, 0.83956044, 0.93626374,\n",
              "        0.87912088, 0.91428571, 0.85054945, 0.91208791, 0.84835165,\n",
              "        0.91208791, 0.90549451, 0.92967033, 0.86153846, 0.92087912,\n",
              "        0.88571429, 0.8989011 , 0.90549451, 0.92087912, 0.90769231,\n",
              "        0.86373626, 0.80659341, 0.87472527, 0.77802198, 0.83076923,\n",
              "        0.84175824, 0.9032967 , 0.78021978, 0.90989011, 0.8       ,\n",
              "        0.89450549, 0.79340659, 0.91428571, 0.84835165, 0.91868132,\n",
              "        0.87472527, 0.91648352, 0.85714286, 0.93186813, 0.89230769,\n",
              "        0.92527473, 0.89010989, 0.92967033, 0.88791209, 0.92527473,\n",
              "        0.89230769, 0.93406593, 0.93406593, 0.93406593, 0.86593407]),\n",
              " 'std_test_score': array([0.01076699, 0.11322415, 0.00822342, 0.09680315, 0.02038158,\n",
              "        0.08472235, 0.02655614, 0.08093166, 0.03651263, 0.09099007,\n",
              "        0.02130848, 0.0751764 , 0.0283167 , 0.0283167 , 0.01890621,\n",
              "        0.02085018, 0.01758242, 0.05671863, 0.02085018, 0.0627048 ,\n",
              "        0.02780024, 0.03516484, 0.02038158, 0.03304021, 0.0363801 ,\n",
              "        0.02655614, 0.0401663 , 0.03716821, 0.03433077, 0.02153398,\n",
              "        0.04317996, 0.06200763, 0.05714286, 0.09412138, 0.06901239,\n",
              "        0.04428449, 0.01281528, 0.03029461, 0.0254414 , 0.09640313,\n",
              "        0.02038158, 0.07202624, 0.03361991, 0.05831428, 0.02655614,\n",
              "        0.02745054, 0.01916   , 0.06519735, 0.02130848, 0.02447369,\n",
              "        0.0254414 , 0.05560049, 0.03076923, 0.02447369, 0.02447369,\n",
              "        0.0254414 , 0.01554081, 0.02197802, 0.01554081, 0.0254414 ]),\n",
              " 'rank_test_score': array([29, 58, 37, 59, 35, 60, 26, 49, 26, 53, 17, 51, 14, 48,  1, 36, 15,\n",
              "        44, 19, 45, 18, 22,  6, 42, 10, 34, 25, 22, 11, 21, 41, 52, 38, 57,\n",
              "        49, 47, 24, 56, 20, 53, 26, 55, 15, 45, 12, 38, 13, 43,  5, 29,  8,\n",
              "        32,  6, 33,  8, 29,  2,  2,  2, 40], dtype=int32)}"
            ]
          },
          "metadata": {},
          "execution_count": 16
        }
      ]
    },
    {
      "cell_type": "code",
      "source": [
        "cv.best_params_"
      ],
      "metadata": {
        "colab": {
          "base_uri": "https://localhost:8080/"
        },
        "id": "PWt2rESC2gHC",
        "outputId": "f8889f3d-c3f3-4e87-e435-24f3bc67c2a3"
      },
      "execution_count": 17,
      "outputs": [
        {
          "output_type": "execute_result",
          "data": {
            "text/plain": [
              "{'criterion': 'gini',\n",
              " 'max_depth': 3,\n",
              " 'max_features': 'sqrt',\n",
              " 'splitter': 'best'}"
            ]
          },
          "metadata": {},
          "execution_count": 17
        }
      ]
    },
    {
      "cell_type": "code",
      "source": [
        "print('test score ( pre-pruning) :',cv.score(X_test,Y_test))"
      ],
      "metadata": {
        "colab": {
          "base_uri": "https://localhost:8080/"
        },
        "id": "rb_gb-Qm21YJ",
        "outputId": "d478ae0b-32b4-4d9d-b40d-4da976544bd8"
      },
      "execution_count": 18,
      "outputs": [
        {
          "output_type": "stream",
          "name": "stdout",
          "text": [
            "test score ( pre-pruning) : 0.9473684210526315\n"
          ]
        }
      ]
    },
    {
      "cell_type": "code",
      "source": [
        "y_pred_pre_prun = cv.predict(X_test)"
      ],
      "metadata": {
        "id": "CynZKu_H5RXX"
      },
      "execution_count": 19,
      "outputs": []
    },
    {
      "cell_type": "code",
      "source": [
        "cm = confusion_matrix(Y_test,y_pred_pre_prun)"
      ],
      "metadata": {
        "id": "PN1tY5NA5juJ"
      },
      "execution_count": 20,
      "outputs": []
    },
    {
      "cell_type": "code",
      "source": [
        "cm"
      ],
      "metadata": {
        "colab": {
          "base_uri": "https://localhost:8080/"
        },
        "id": "AieA1eHg7mw7",
        "outputId": "cdf60d8d-2125-452a-e1ac-d37083f3f2b0"
      },
      "execution_count": 21,
      "outputs": [
        {
          "output_type": "execute_result",
          "data": {
            "text/plain": [
              "array([[42,  5],\n",
              "       [ 1, 66]])"
            ]
          },
          "metadata": {},
          "execution_count": 21
        }
      ]
    },
    {
      "cell_type": "code",
      "source": [
        "fig = ConfusionMatrixDisplay(cm,display_labels=cv.classes_)"
      ],
      "metadata": {
        "id": "K27OFhFo6ZVn"
      },
      "execution_count": 22,
      "outputs": []
    },
    {
      "cell_type": "code",
      "source": [
        "# confusion matrix for pre prunned tree \n",
        "fig.plot()"
      ],
      "metadata": {
        "colab": {
          "base_uri": "https://localhost:8080/",
          "height": 296
        },
        "id": "4btY3Rnk66wP",
        "outputId": "6727d1d9-dd98-42e5-8228-a4a32b5352e9"
      },
      "execution_count": 23,
      "outputs": [
        {
          "output_type": "execute_result",
          "data": {
            "text/plain": [
              "<sklearn.metrics._plot.confusion_matrix.ConfusionMatrixDisplay at 0x7f03e1927290>"
            ]
          },
          "metadata": {},
          "execution_count": 23
        },
        {
          "output_type": "display_data",
          "data": {
            "text/plain": [
              "<Figure size 432x288 with 2 Axes>"
            ],
            "image/png": "[encoded data removed]"
          },
          "metadata": {
            "needs_background": "light"
          }
        }
      ]
    },
    {
      "cell_type": "markdown",
      "source": [
        "## Post pruning "
      ],
      "metadata": {
        "id": "RIqyok-a8auc"
      }
    },
    {
      "cell_type": "code",
      "source": [
        "clf = DecisionTreeClassifier(random_state=0)\n",
        "path = clf.cost_complexity_pruning_path(X_train, Y_train)\n",
        "ccp_alphas, impurities = path.ccp_alphas, path.impurities"
      ],
      "metadata": {
        "id": "jZ0otIFg8cfc"
      },
      "execution_count": 24,
      "outputs": []
    },
    {
      "cell_type": "code",
      "source": [
        "fig, ax = plt.subplots()\n",
        "ax.plot(ccp_alphas[:-1], impurities[:-1], marker=\"o\", drawstyle=\"steps-post\")\n",
        "ax.set_xlabel(\"effective alpha\")\n",
        "ax.set_ylabel(\"total impurity of leaves\")\n",
        "ax.set_title(\"Total Impurity vs effective alpha for training set\")"
      ],
      "metadata": {
        "colab": {
          "base_uri": "https://localhost:8080/",
          "height": 312
        },
        "id": "eDgYHpuKNO2Y",
        "outputId": "6c3a74fb-fc1d-4a03-fc49-485440089ec3"
      },
      "execution_count": 25,
      "outputs": [
        {
          "output_type": "execute_result",
          "data": {
            "text/plain": [
              "Text(0.5, 1.0, 'Total Impurity vs effective alpha for training set')"
            ]
          },
          "metadata": {},
          "execution_count": 25
        },
        {
          "output_type": "display_data",
          "data": {
            "text/plain": [
              "<Figure size 432x288 with 1 Axes>"
            ],
            "image/png": "[encoded data removed]"
          },
          "metadata": {
            "needs_background": "light"
          }
        }
      ]
    },
    {
      "cell_type": "code",
      "source": [
        "clfs = []\n",
        "\n",
        "for ccp_alpha in ccp_alphas:\n",
        "    clf = DecisionTreeClassifier(random_state=0, ccp_alpha=ccp_alpha)\n",
        "    clf.fit(X_train, Y_train)\n",
        "    clfs.append(clf)"
      ],
      "metadata": {
        "id": "Ukedg-d6Olax"
      },
      "execution_count": 26,
      "outputs": []
    },
    {
      "cell_type": "code",
      "source": [
        "train_scores = [clf.score(X_train, Y_train) for clf in clfs]\n",
        "test_scores = [clf.score(X_test, Y_test) for clf in clfs]\n",
        "\n",
        "fig, ax = plt.subplots()\n",
        "ax.set_xlabel(\"alpha\")\n",
        "ax.set_ylabel(\"accuracy\")\n",
        "ax.set_title(\"Accuracy vs alpha for training and testing sets\")\n",
        "ax.plot(ccp_alphas, train_scores, marker=\"o\", label=\"train\", drawstyle=\"steps-post\")\n",
        "ax.plot(ccp_alphas, test_scores, marker=\"o\", label=\"test\", drawstyle=\"steps-post\")\n",
        "ax.legend()\n",
        "plt.show()"
      ],
      "metadata": {
        "colab": {
          "base_uri": "https://localhost:8080/",
          "height": 295
        },
        "id": "BUEs4FA3PH0V",
        "outputId": "473bb064-922b-448e-f315-7090d32497ee"
      },
      "execution_count": 28,
      "outputs": [
        {
          "output_type": "display_data",
          "data": {
            "text/plain": [
              "<Figure size 432x288 with 1 Axes>"
            ],
            "image/png": "[encoded data removed]"
          },
          "metadata": {
            "needs_background": "light"
          }
        }
      ]
    },
    {
      "cell_type": "code",
      "source": [
        "plt.figure(figsize=(10,15))\n",
        "plt.plot(ccp_alphas, train_scores, marker=\"o\", label=\"train\", drawstyle=\"steps-post\")\n",
        "plt.plot(ccp_alphas, test_scores, marker=\"o\", label=\"test\", drawstyle=\"steps-post\")\n",
        "plt.legend()\n",
        "plt.show()"
      ],
      "metadata": {
        "colab": {
          "base_uri": "https://localhost:8080/",
          "height": 863
        },
        "id": "Uqj0-NuYuVDp",
        "outputId": "31da3692-0209-4efa-a174-78d5988f51b6"
      },
      "execution_count": 33,
      "outputs": [
        {
          "output_type": "display_data",
          "data": {
            "text/plain": [
              "<Figure size 720x1080 with 1 Axes>"
            ],
            "image/png": "[encoded data removed]"
          },
          "metadata": {
            "needs_background": "light"
          }
        }
      ]
    },
    {
      "cell_type": "code",
      "source": [
        "for i in range(len(train_scores)):\n",
        "  print('ccp_alpha {} train score {} , test score {}'.format(ccp_alphas[i],train_scores[i],test_scores[i]))"
      ],
      "metadata": {
        "colab": {
          "base_uri": "https://localhost:8080/"
        },
        "id": "-XgYpZNQvCNJ",
        "outputId": "db2f37f5-3ad8-41a5-c607-94ec2baf81c2"
      },
      "execution_count": 38,
      "outputs": [
        {
          "output_type": "stream",
          "name": "stdout",
          "text": [
            "ccp_alpha 0.0 train score 1.0 , test score 0.9122807017543859\n",
            "ccp_alpha 0.002164999179924551 train score 0.9912087912087912 , test score 0.9473684210526315\n",
            "ccp_alpha 0.0021816418875242375 train score 0.989010989010989 , test score 0.9473684210526315\n",
            "ccp_alpha 0.004249515118959747 train score 0.9868131868131869 , test score 0.9473684210526315\n",
            "ccp_alpha 0.004268429779938729 train score 0.9824175824175824 , test score 0.9473684210526315\n",
            "ccp_alpha 0.00761904761904762 train score 0.9736263736263736 , test score 0.9649122807017544\n",
            "ccp_alpha 0.00761904761904762 train score 0.9736263736263736 , test score 0.9649122807017544\n",
            "ccp_alpha 0.008658163913740103 train score 0.9648351648351648 , test score 0.9736842105263158\n",
            "ccp_alpha 0.015070643642072213 train score 0.9516483516483516 , test score 0.9649122807017544\n",
            "ccp_alpha 0.016881728928149348 train score 0.9472527472527472 , test score 0.9649122807017544\n",
            "ccp_alpha 0.04301457343536551 train score 0.9230769230769231 , test score 0.9035087719298246\n",
            "ccp_alpha 0.32027199074911666 train score 0.6373626373626373 , test score 0.5877192982456141\n"
          ]
        }
      ]
    },
    {
      "cell_type": "markdown",
      "source": [
        "optimal ccp_alpha value : 0.002164999179924551 ( ccp_alpha[1] )"
      ],
      "metadata": {
        "id": "lOC4KkszwPPY"
      }
    },
    {
      "cell_type": "code",
      "source": [
        "post_prun_model = DecisionTreeClassifier(random_state=0, ccp_alpha=ccp_alphas[1])\n",
        "post_prun_model.fit(X_train,Y_train)\n",
        "y_pred_post_prun = post_prun_model.predict(X_test)\n"
      ],
      "metadata": {
        "id": "3OL2pbU5wkNp"
      },
      "execution_count": 40,
      "outputs": []
    },
    {
      "cell_type": "code",
      "source": [
        "cm = confusion_matrix(Y_test,y_pred_post_prun)\n",
        "fig = ConfusionMatrixDisplay(cm,display_labels=post_prun_model.classes_)\n",
        "fig.plot()"
      ],
      "metadata": {
        "colab": {
          "base_uri": "https://localhost:8080/",
          "height": 296
        },
        "id": "Pf3_IYnnxC0s",
        "outputId": "5cdaef93-97a9-4c5e-a33c-3a2bdba0017b"
      },
      "execution_count": 42,
      "outputs": [
        {
          "output_type": "execute_result",
          "data": {
            "text/plain": [
              "<sklearn.metrics._plot.confusion_matrix.ConfusionMatrixDisplay at 0x7f03e381c290>"
            ]
          },
          "metadata": {},
          "execution_count": 42
        },
        {
          "output_type": "display_data",
          "data": {
            "text/plain": [
              "<Figure size 432x288 with 2 Axes>"
            ],
            "image/png": "[encoded data removed]"
          },
          "metadata": {
            "needs_background": "light"
          }
        }
      ]
    }
  ]
}